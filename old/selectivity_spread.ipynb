{
 "cells": [
  {
   "cell_type": "code",
   "execution_count": 1,
   "metadata": {},
   "outputs": [],
   "source": [
    "import matplotlib.pyplot as plt\n",
    "import seaborn as sns\n",
    "import numpy as np\n",
    "import pandas as pd\n",
    "from plotnine import *\n",
    "import itertools\n",
    "from nilearn import image, plotting, datasets, masking\n",
    "import nibabel as nib\n",
    "import pdb\n",
    "import os\n",
    "from nilearn.datasets import load_mni152_brain_mask, load_mni152_template"
   ]
  },
  {
   "cell_type": "code",
   "execution_count": null,
   "metadata": {},
   "outputs": [],
   "source": [
    "study='hemispace'\n",
    "\n",
    "patient_dir = f\"/lab_data/behrmannlab/vlad/{study}\"\n",
    "\n",
    "control_dir = f\"/lab_data/behrmannlab/vlad/spaceloc\"\n",
    "suf = '_roi'\n",
    "exps = ['spaceloc','toolloc']\n",
    "copes = [1,1]\n",
    "p_hemi = ['right']\n",
    "c_hemi = ['left', 'right']\n",
    "\n",
    "c_subs =[\"spaceloc1001\", \"spaceloc1002\", \"spaceloc1003\", \"spaceloc1004\", \"spaceloc1005\", \"spaceloc1006\", \"spaceloc1007\",\n",
    "\"spaceloc1008\" ,\"spaceloc1009\", \"spaceloc1010\", \"spaceloc1011\" ,\"spaceloc1012\",\n",
    "\"spaceloc2013\",\"spaceloc2014\",\"spaceloc2015\",\"spaceloc2016\" ]\n",
    "\n",
    "p_subs = ['hemispace1001']\n",
    "\n",
    "#left is negative, right is positive\n",
    "mni = load_mni152_brain_mask()\n",
    "mni_affine = mni.affine"
   ]
  },
  {
   "cell_type": "code",
   "execution_count": null,
   "metadata": {},
   "outputs": [],
   "source": [
    "ss = p_subs[0]\n",
    "sub_dir = f'{patient_dir}/sub-{ss[1]}/ses-01/derivatives/'\n",
    "anat_mask = image.load_img(f'{patient_dir}/sub-{ss[1]}/ses-01/anat/sub-hemispace1001_ses-01_T1w_brain_mask.nii.gz')\n"
   ]
  },
  {
   "cell_type": "code",
   "execution_count": 263,
   "metadata": {},
   "outputs": [],
   "source": [
    "#load hemisubj\n",
    "control_summary = pd.DataFrame(columns=[['l' + exp for exp in exps] + ['r' + exp for exp in exps]])\n",
    "p_acts = []\n",
    "for exp in enumerate(exps):\n",
    "\n",
    "    '''\n",
    "    Extract activation spread from patients\n",
    "    '''\n",
    "    for ss in enumerate(p_subs):\n",
    "        #set up dirs\n",
    "        sub_dir = f'{patient_dir}/sub-{ss[1]}/ses-01/derivatives/'\n",
    "        stat_dir = f'{sub_dir}/fsl/{exp[1]}/HighLevel{suf}.gfeat/cope{copes[exp[0]]}.feat/'\n",
    "\n",
    "        #load anat\n",
    "        anat_mask = image.load_img(f'{patient_dir}/sub-{ss[1]}/ses-01/anat/sub-hemispace1001_ses-01_T1w_brain_mask.nii.gz')\n",
    "        affine = anat_mask.affine\n",
    "        hemi_mask = image.get_data(anat_mask)\n",
    "\n",
    "        #extract just one hemi\n",
    "        mid = list((np.array((anat_np.shape))/2).astype(int)) #find mid point of image\n",
    "        hemi_mask[hemi_mask>0] = 1 #ensure to mask all of it\n",
    "\n",
    "        if p_hemi[ss[0]] == 'left':\n",
    "            hemi_mask[mid[0]:, :, :] = 0 \n",
    "        else:\n",
    "            hemi_mask[:mid[0], :, :] = 0 \n",
    "\n",
    "        mask_size = np.sum(hemi_mask)\n",
    "        #hemi_mask = nib.Nifti1Image(anat_np, affine)  # create the volume image\n",
    "\n",
    "        zstat = image.get_data(image.load_img(f'{stat_dir}/stats/zstat1.nii.gz'))\n",
    "        clust_mask = image.get_data(image.load_img(f'{stat_dir}/cluster_mask_zstat1.nii.gz'))\n",
    "        clust_mask[clust_mask>0] = 1\n",
    "\n",
    "        zstat_mask = zstat  * hemi_mask * clust_mask\n",
    "\n",
    "        p_spread = np.sum(zstat_mask)/mask_size\n",
    "        p_acts.append(p_spread)\n",
    "\n",
    "    \n",
    "\n",
    "    '''\n",
    "    Extract activation spread from controls\n",
    "    '''\n",
    "    act_spread = []\n",
    "    for ss in enumerate(c_subs):\n",
    "        #set up dirs\n",
    "        sub_dir = f'{control_dir}/sub-{ss[1]}/ses-01/derivatives/'\n",
    "        stat_dir = f'{sub_dir}/fsl/{exp[1]}/HighLevel{suf}.gfeat/cope{copes[exp[0]]}.feat/'\n",
    "\n",
    "        hemi_spread = []\n",
    "        for hemi in c_hemi:\n",
    "            mni = load_mni152_brain_mask()\n",
    "            hemi_mask = image.get_data(mni)\n",
    "            mni_mask[mni_mask>0] = 1 #ensure to mask all of it\n",
    "                        \n",
    "            if hemi == 'left':\n",
    "                hemi_mask[mid[0]:, :, :] = 0 \n",
    "            else:\n",
    "                hemi_mask[:mid[0], :, :] = 0 \n",
    "            \n",
    "            mask_size = np.sum(hemi_mask)\n",
    "            #hemi_mask = nib.Nifti1Image(anat_np, affine)  # create the volume image\n",
    "\n",
    "            zstat = image.get_data(image.load_img(f'{stat_dir}/stats/zstat1.nii.gz'))\n",
    "            \n",
    "            clust_mask = image.get_data(image.load_img(f'{stat_dir}/cluster_mask_zstat1.nii.gz'))\n",
    "            clust_mask[clust_mask>0] = 1\n",
    "\n",
    "            zstat_mask = zstat *  hemi_mask * clust_mask\n",
    "            \n",
    "            act_val =np.sum(zstat_mask)/mask_size\n",
    "            if act_val == 0:\n",
    "                hemi_spread.append(np.nan)\n",
    "            else:    \n",
    "                hemi_spread.append(act_val)\n",
    "\n",
    "        act_spread.append(hemi_spread)\n",
    "\n",
    "    act_spread = np.array(act_spread)\n",
    "    control_summary[f'l{exp[1]}'] = act_spread[:,0]\n",
    "    control_summary[f'r{exp[1]}'] = act_spread[:,1]\n",
    "\n",
    "p_acts = pd.Series(p_acts, index= exps) #create index for patients"
   ]
  },
  {
   "cell_type": "code",
   "execution_count": 269,
   "metadata": {},
   "outputs": [
    {
     "data": {
      "image/png": "[encoded data removed]",
      "text/plain": [
       "<Figure size 432x288 with 1 Axes>"
      ]
     },
     "metadata": {
      "needs_background": "light"
     },
     "output_type": "display_data"
    },
    {
     "name": "stdout",
     "output_type": "stream",
     "text": [
      "lspaceloc\n"
     ]
    },
    {
     "data": {
      "image/png": "[encoded data removed]",
      "text/plain": [
       "<Figure size 432x288 with 1 Axes>"
      ]
     },
     "metadata": {
      "needs_background": "light"
     },
     "output_type": "display_data"
    },
    {
     "name": "stdout",
     "output_type": "stream",
     "text": [
      "rspaceloc\n"
     ]
    },
    {
     "data": {
      "image/png": "[encoded data removed]",
      "text/plain": [
       "<Figure size 432x288 with 1 Axes>"
      ]
     },
     "metadata": {
      "needs_background": "light"
     },
     "output_type": "display_data"
    },
    {
     "name": "stdout",
     "output_type": "stream",
     "text": [
      "ltoolloc\n"
     ]
    },
    {
     "data": {
      "image/png": "[encoded data removed]",
      "text/plain": [
       "<Figure size 432x288 with 1 Axes>"
      ]
     },
     "metadata": {
      "needs_background": "light"
     },
     "output_type": "display_data"
    },
    {
     "name": "stdout",
     "output_type": "stream",
     "text": [
      "rtoolloc\n"
     ]
    }
   ],
   "source": [
    "for exp in exps:\n",
    "    for lr in ['l','r']:\n",
    "        plt.title(f'{lr}{exp}')\n",
    "        plt.hist(df_summary[f'{lr}{exp}'], rwidth = .5)\n",
    "        plt.hist(p_acts[exp], 20, rwidth = .5)\n",
    "        plt.pause(0.0001)\n",
    "        print(f'{lr}{exp}')\n",
    "        "
   ]
  },
  {
   "cell_type": "code",
   "execution_count": 265,
   "metadata": {},
   "outputs": [
    {
     "data": {
      "text/plain": [
       "0.6652424653839574"
      ]
     },
     "execution_count": 265,
     "metadata": {},
     "output_type": "execute_result"
    }
   ],
   "source": [
    "p_acts['spaceloc']"
   ]
  },
  {
   "cell_type": "code",
   "execution_count": 258,
   "metadata": {},
   "outputs": [
    {
     "data": {
      "text/plain": [
       "0.6652424653839574"
      ]
     },
     "execution_count": 258,
     "metadata": {},
     "output_type": "execute_result"
    }
   ],
   "source": [
    "p_acts[0]"
   ]
  },
  {
   "cell_type": "code",
   "execution_count": 253,
   "metadata": {},
   "outputs": [
    {
     "data": {
      "text/plain": [
       "lspaceloc    0.272156\n",
       "ltoolloc     0.059526\n",
       "rspaceloc    0.167944\n",
       "rtoolloc     0.060327\n",
       "dtype: float64"
      ]
     },
     "execution_count": 253,
     "metadata": {},
     "output_type": "execute_result"
    }
   ],
   "source": [
    "df_summary.mean()"
   ]
  },
  {
   "cell_type": "code",
   "execution_count": 94,
   "metadata": {},
   "outputs": [
    {
     "data": {
      "text/plain": [
       "'/lab_data/behrmannlab/vlad/hemispace/sub-hemispace1001/ses-01/derivatives//fsl/toolloc/HighLevel_roi.gfeat/cope1.feat//stats/zstat1.nii.gz'"
      ]
     },
     "execution_count": 94,
     "metadata": {},
     "output_type": "execute_result"
    }
   ],
   "source": [
    "f'{stat_dir}/stats/zstat1.nii.gz'"
   ]
  },
  {
   "cell_type": "code",
   "execution_count": 62,
   "metadata": {},
   "outputs": [
    {
     "name": "stdout",
     "output_type": "stream",
     "text": [
      "[64, 80, 80]\n"
     ]
    }
   ],
   "source": [
    "anat_np = image.get_data(anat)\n",
    "mid = list((np.array((anat_np.shape))/2).astype(int))\n",
    "anat_np[anat_np>0] = 1\n",
    "anat_np[mid[0]:, :, :] = 0 \n",
    "rh_mask = nib.Nifti1Image(anat_np, affine)  # create the volume image\n",
    "print(mid)"
   ]
  },
  {
   "cell_type": "code",
   "execution_count": 71,
   "metadata": {},
   "outputs": [],
   "source": [
    "anat_np[anat_np>0] = 1\n",
    "anat_np[mid[0]:, :, :] = 0 \n",
    "rh_mask = nib.Nifti1Image(anat_np, affine)  # create the volume image\n"
   ]
  },
  {
   "cell_type": "code",
   "execution_count": null,
   "metadata": {},
   "outputs": [],
   "source": [
    "hemi_mask"
   ]
  },
  {
   "cell_type": "code",
   "execution_count": 77,
   "metadata": {},
   "outputs": [],
   "source": [
    "anat_np = image.get_data(anat)\n",
    "anat_test = nib.Nifti1Image(anat_np, affine)  # create the volume image"
   ]
  },
  {
   "cell_type": "code",
   "execution_count": null,
   "metadata": {},
   "outputs": [],
   "source": []
  }
 ],
 "metadata": {
  "interpreter": {
   "hash": "4973e9ecea6e1bee6a1dc5ee48c4d9ad054d2000569fe29eff9389f8289fb1b5"
  },
  "kernelspec": {
   "display_name": "Python 3.8.0 64-bit ('fmri': conda)",
   "language": "python",
   "name": "python3"
  },
  "language_info": {
   "codemirror_mode": {
    "name": "ipython",
    "version": 3
   },
   "file_extension": ".py",
   "mimetype": "text/x-python",
   "name": "python",
   "nbconvert_exporter": "python",
   "pygments_lexer": "ipython3",
   "version": "3.8.12"
  },
  "orig_nbformat": 4
 },
 "nbformat": 4,
 "nbformat_minor": 2
}
